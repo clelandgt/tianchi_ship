{
 "cells": [
  {
   "cell_type": "code",
   "execution_count": 53,
   "metadata": {},
   "outputs": [
    {
     "name": "stdout",
     "output_type": "stream",
     "text": [
      "Using matplotlib backend: MacOSX\n"
     ]
    }
   ],
   "source": [
    "%matplotlib\n",
    "%matplotlib inline\n",
    "%config InlineBackend.figure_format = 'retina'\n",
    "\n",
    "import os\n",
    "import pandas as pd\n",
    "import numpy as np\n",
    "import matplotlib.pyplot as plt\n",
    "# import lightgbm as lgb\n",
    "from sklearn.model_selection import StratifiedKFold\n",
    "\n",
    "\n",
    "LOCAL = True"
   ]
  },
  {
   "cell_type": "markdown",
   "metadata": {},
   "source": [
    "## 加载数据"
   ]
  },
  {
   "cell_type": "code",
   "execution_count": 78,
   "metadata": {},
   "outputs": [],
   "source": [
    "def loan_dir(dir_path, columns):\n",
    "    dfs = []\n",
    "    files = os.listdir(dir_path)\n",
    "    for file in files:\n",
    "        file = os.path.join(dir_path, file)\n",
    "        df = pd.read_csv(file)\n",
    "        dfs.append(df)\n",
    "\n",
    "    ret_df = pd.concat(dfs)\n",
    "    ret_df.columns=columns\n",
    "    return ret_df    \n",
    "\n",
    "## 合并数据\n",
    "# train_columns=['ship','x','y','v','d','time','type']\n",
    "# train_df = loan_dir('hy_round1_train_20200102/', train_columns)\n",
    "# train_df.to_csv('hy_round1_train_20200102_merged.csv', index=False)\n",
    "\n",
    "# test_columns=['ship','x','y','v','d','time']\n",
    "# test_df = loan_dir('hy_round1_testA_20200102', test_columns)\n",
    "# test_df.to_csv('hy_round1_testA_20200102_merged.csv', index=False)"
   ]
  },
  {
   "cell_type": "code",
   "execution_count": 52,
   "metadata": {},
   "outputs": [],
   "source": [
    "train_df = None\n",
    "test_df = None\n",
    "\n",
    "# 加载数据\n",
    "if LOCAL:\n",
    "    train_df = pd.read_csv('hy_round1_train_20200102_merged.csv')\n",
    "    test_df = pd.read_csv('hy_round1_testA_20200102_merged.csv')\n",
    "else:\n",
    "    train_df = pd.read_csv('http://cleland.oss-cn-beijing.aliyuncs.com/data/tianchi_ship/hy_round1_train_20200102_merged.csv')\n",
    "    test_df = pd.read_csv('http://cleland.oss-cn-beijing.aliyuncs.com/data/tianchi_ship/hy_round1_testA_20200102_merged.csv')    "
   ]
  },
  {
   "cell_type": "code",
   "execution_count": 65,
   "metadata": {},
   "outputs": [
    {
     "data": {
      "text/html": [
       "<div>\n",
       "<style scoped>\n",
       "    .dataframe tbody tr th:only-of-type {\n",
       "        vertical-align: middle;\n",
       "    }\n",
       "\n",
       "    .dataframe tbody tr th {\n",
       "        vertical-align: top;\n",
       "    }\n",
       "\n",
       "    .dataframe thead th {\n",
       "        text-align: right;\n",
       "    }\n",
       "</style>\n",
       "<table border=\"1\" class=\"dataframe\">\n",
       "  <thead>\n",
       "    <tr style=\"text-align: right;\">\n",
       "      <th></th>\n",
       "      <th>Unnamed: 0</th>\n",
       "      <th>ship</th>\n",
       "      <th>x</th>\n",
       "      <th>y</th>\n",
       "      <th>v</th>\n",
       "      <th>d</th>\n",
       "      <th>time</th>\n",
       "      <th>type</th>\n",
       "    </tr>\n",
       "  </thead>\n",
       "  <tbody>\n",
       "    <tr>\n",
       "      <th>0</th>\n",
       "      <td>0</td>\n",
       "      <td>6966</td>\n",
       "      <td>6.265902e+06</td>\n",
       "      <td>5.279254e+06</td>\n",
       "      <td>0.11</td>\n",
       "      <td>306</td>\n",
       "      <td>1106 23:58:16</td>\n",
       "      <td>围网</td>\n",
       "    </tr>\n",
       "    <tr>\n",
       "      <th>1</th>\n",
       "      <td>1</td>\n",
       "      <td>6966</td>\n",
       "      <td>6.265902e+06</td>\n",
       "      <td>5.279254e+06</td>\n",
       "      <td>0.00</td>\n",
       "      <td>0</td>\n",
       "      <td>1106 23:48:21</td>\n",
       "      <td>围网</td>\n",
       "    </tr>\n",
       "    <tr>\n",
       "      <th>2</th>\n",
       "      <td>2</td>\n",
       "      <td>6966</td>\n",
       "      <td>6.265902e+06</td>\n",
       "      <td>5.279254e+06</td>\n",
       "      <td>0.00</td>\n",
       "      <td>0</td>\n",
       "      <td>1106 23:38:19</td>\n",
       "      <td>围网</td>\n",
       "    </tr>\n",
       "    <tr>\n",
       "      <th>3</th>\n",
       "      <td>3</td>\n",
       "      <td>6966</td>\n",
       "      <td>6.265902e+06</td>\n",
       "      <td>5.279254e+06</td>\n",
       "      <td>0.00</td>\n",
       "      <td>0</td>\n",
       "      <td>1106 23:28:36</td>\n",
       "      <td>围网</td>\n",
       "    </tr>\n",
       "    <tr>\n",
       "      <th>4</th>\n",
       "      <td>4</td>\n",
       "      <td>6966</td>\n",
       "      <td>6.265902e+06</td>\n",
       "      <td>5.279254e+06</td>\n",
       "      <td>0.32</td>\n",
       "      <td>130</td>\n",
       "      <td>1106 23:08:17</td>\n",
       "      <td>围网</td>\n",
       "    </tr>\n",
       "    <tr>\n",
       "      <th>5</th>\n",
       "      <td>5</td>\n",
       "      <td>6966</td>\n",
       "      <td>6.265902e+06</td>\n",
       "      <td>5.279254e+06</td>\n",
       "      <td>0.22</td>\n",
       "      <td>158</td>\n",
       "      <td>1106 22:58:16</td>\n",
       "      <td>围网</td>\n",
       "    </tr>\n",
       "    <tr>\n",
       "      <th>6</th>\n",
       "      <td>6</td>\n",
       "      <td>6966</td>\n",
       "      <td>6.265902e+06</td>\n",
       "      <td>5.279254e+06</td>\n",
       "      <td>0.22</td>\n",
       "      <td>341</td>\n",
       "      <td>1106 22:48:16</td>\n",
       "      <td>围网</td>\n",
       "    </tr>\n",
       "    <tr>\n",
       "      <th>7</th>\n",
       "      <td>7</td>\n",
       "      <td>6966</td>\n",
       "      <td>6.265902e+06</td>\n",
       "      <td>5.279254e+06</td>\n",
       "      <td>0.11</td>\n",
       "      <td>254</td>\n",
       "      <td>1106 22:39:26</td>\n",
       "      <td>围网</td>\n",
       "    </tr>\n",
       "    <tr>\n",
       "      <th>8</th>\n",
       "      <td>8</td>\n",
       "      <td>6966</td>\n",
       "      <td>6.265902e+06</td>\n",
       "      <td>5.279254e+06</td>\n",
       "      <td>0.11</td>\n",
       "      <td>254</td>\n",
       "      <td>1106 22:38:12</td>\n",
       "      <td>围网</td>\n",
       "    </tr>\n",
       "    <tr>\n",
       "      <th>9</th>\n",
       "      <td>9</td>\n",
       "      <td>6966</td>\n",
       "      <td>6.265902e+06</td>\n",
       "      <td>5.279254e+06</td>\n",
       "      <td>0.11</td>\n",
       "      <td>325</td>\n",
       "      <td>1106 22:18:45</td>\n",
       "      <td>围网</td>\n",
       "    </tr>\n",
       "  </tbody>\n",
       "</table>\n",
       "</div>"
      ],
      "text/plain": [
       "   Unnamed: 0  ship             x             y     v    d           time type\n",
       "0           0  6966  6.265902e+06  5.279254e+06  0.11  306  1106 23:58:16   围网\n",
       "1           1  6966  6.265902e+06  5.279254e+06  0.00    0  1106 23:48:21   围网\n",
       "2           2  6966  6.265902e+06  5.279254e+06  0.00    0  1106 23:38:19   围网\n",
       "3           3  6966  6.265902e+06  5.279254e+06  0.00    0  1106 23:28:36   围网\n",
       "4           4  6966  6.265902e+06  5.279254e+06  0.32  130  1106 23:08:17   围网\n",
       "5           5  6966  6.265902e+06  5.279254e+06  0.22  158  1106 22:58:16   围网\n",
       "6           6  6966  6.265902e+06  5.279254e+06  0.22  341  1106 22:48:16   围网\n",
       "7           7  6966  6.265902e+06  5.279254e+06  0.11  254  1106 22:39:26   围网\n",
       "8           8  6966  6.265902e+06  5.279254e+06  0.11  254  1106 22:38:12   围网\n",
       "9           9  6966  6.265902e+06  5.279254e+06  0.11  325  1106 22:18:45   围网"
      ]
     },
     "execution_count": 65,
     "metadata": {},
     "output_type": "execute_result"
    }
   ],
   "source": [
    "train_df.head(10)"
   ]
  },
  {
   "cell_type": "code",
   "execution_count": 76,
   "metadata": {},
   "outputs": [],
   "source": [
    "#  time处理\n",
    "train_df['time'] = pd.to_datetime(train_df['time'],format ='%m%d %H:%M:%S')"
   ]
  },
  {
   "cell_type": "code",
   "execution_count": 84,
   "metadata": {},
   "outputs": [
    {
     "data": {
      "text/plain": [
       "4924    3969\n",
       "4069    3323\n",
       "489     3312\n",
       "5070    2832\n",
       "401     2248\n",
       "        ... \n",
       "5464      16\n",
       "3554      14\n",
       "2739      13\n",
       "5034      12\n",
       "254       12\n",
       "Name: ship, Length: 7000, dtype: int64"
      ]
     },
     "execution_count": 84,
     "metadata": {},
     "output_type": "execute_result"
    }
   ],
   "source": [
    "train_df['ship'].value_counts()"
   ]
  },
  {
   "cell_type": "code",
   "execution_count": null,
   "metadata": {},
   "outputs": [],
   "source": [
    "train_df"
   ]
  }
 ],
 "metadata": {
  "kernelspec": {
   "display_name": "Python 3",
   "language": "python",
   "name": "python3"
  },
  "language_info": {
   "codemirror_mode": {
    "name": "ipython",
    "version": 3
   },
   "file_extension": ".py",
   "mimetype": "text/x-python",
   "name": "python",
   "nbconvert_exporter": "python",
   "pygments_lexer": "ipython3",
   "version": "3.7.1"
  }
 },
 "nbformat": 4,
 "nbformat_minor": 2
}
